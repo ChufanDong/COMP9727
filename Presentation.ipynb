{
 "cells": [
  {
   "cell_type": "code",
   "execution_count": 1,
   "metadata": {},
   "outputs": [
    {
     "name": "stdout",
     "output_type": "stream",
     "text": [
      "[load_anime_data] Loaded 19311 anime records.\n",
      "[load_profile_data] Loaded 81727 user profiles.\n",
      "[load_review_data] Loaded 192112 reviews.\n",
      "[preprocessing] Processing anime data...\n",
      "[preprocessing] Anime data processed successfully.\n",
      "[preprocessing] Processing profile data...\n",
      "[preprocessing] Profile data processed successfully.\n",
      "[preprocessing] Processing review data...\n",
      "[preprocessing] Review data processed successfully.\n",
      "Number of cold start profiles: 37322\n",
      "Number of normal profiles: 136\n"
     ]
    }
   ],
   "source": [
    "from preprocessing.preprocess_pipline import final_preprocess, get_all_cleaned_data, split_profile\n",
    "animes, profiles, reviews = get_all_cleaned_data()\n",
    "animes, profiles, reviews = final_preprocess(animes, profiles, reviews)\n",
    "train_profiles, test_profiles = split_profile(profiles, train_size=0.5, test_size=0.5)\n",
    "cold_start_profiles = train_profiles[train_profiles['is_cold_start'] == True]\n",
    "normal_profiles = train_profiles[train_profiles['is_cold_start'] == False]\n",
    "print(f\"Number of cold start profiles: {len(cold_start_profiles)}\")\n",
    "print(f\"Number of normal profiles: {len(normal_profiles)}\")"
   ]
  },
  {
   "cell_type": "code",
   "execution_count": 2,
   "metadata": {},
   "outputs": [
    {
     "name": "stdout",
     "output_type": "stream",
     "text": [
      "Genres length in animes:\n",
      "0                 [Comedy, Sports, Drama, School, Shounen]\n",
      "1                 [Drama, Music, Romance, School, Shounen]\n",
      "2             [Sci-Fi, Adventure, Mystery, Drama, Fantasy]\n",
      "3        [Action, Military, Adventure, Comedy, Drama, M...\n",
      "4                 [Action, Mystery, Supernatural, Vampire]\n",
      "                               ...                        \n",
      "19306                   [Sci-Fi, Adventure, Comedy, Magic]\n",
      "19307    [Adventure, Fantasy, Magic, Martial Arts, Come...\n",
      "19308                      [Mystery, Horror, Supernatural]\n",
      "19309    [Action, Adventure, Comedy, Historical, Demons...\n",
      "19310              [Military, Sci-Fi, Space, Drama, Mecha]\n",
      "Name: genre, Length: 19311, dtype: object\n"
     ]
    }
   ],
   "source": [
    "# check genres length in animes\n",
    "print(\"Genres length in animes:\")\n",
    "print(animes['genre'])"
   ]
  },
  {
   "cell_type": "code",
   "execution_count": 3,
   "metadata": {},
   "outputs": [],
   "source": [
    "from evaluation.evaluation_pipline import evaluation_pipeline"
   ]
  },
  {
   "cell_type": "code",
   "execution_count": 4,
   "metadata": {},
   "outputs": [
    {
     "name": "stdout",
     "output_type": "stream",
     "text": [
      "[load_anime_data] Loaded 19311 anime records.\n",
      "Cold Start Recommendations Length:\n",
      "37322\n",
      "Cold Start Evaluation Results:\n",
      "{'precision': 0.04412946787417609, 'ndcg': 0.11688877988602143, 'recall': 0.13690384751153198}\n"
     ]
    }
   ],
   "source": [
    "from methods.cold_start import recommend_for_cold_start_profiles\n",
    "cold_start_results = recommend_for_cold_start_profiles(cold_start_profiles, 10)\n",
    "eva_cold_start = evaluation_pipeline(cold_start_results, test_profiles, 10)\n",
    "print(\"Cold Start Recommendations Length:\")\n",
    "print(f\"{len(cold_start_results)}\")\n",
    "print(\"Cold Start Evaluation Results:\")\n",
    "print(eva_cold_start[\"overall\"])\n"
   ]
  },
  {
   "cell_type": "code",
   "execution_count": 5,
   "metadata": {},
   "outputs": [
    {
     "name": "stdout",
     "output_type": "stream",
     "text": [
      "Successfully built a unified Content-Based Recommender.\n"
     ]
    },
    {
     "name": "stderr",
     "output_type": "stream",
     "text": [
      "Generating Content_based recommendations: 100%|██████████| 136/136 [00:06<00:00, 21.92it/s]\n"
     ]
    },
    {
     "name": "stdout",
     "output_type": "stream",
     "text": [
      "Content-Based Recommendations Length:\n",
      "136\n",
      "Content-Based Evaluation Results:\n",
      "{'precision': 0.07279411764705883, 'ndcg': 0.21165219350882825, 'recall': 0.07279411764705883}\n"
     ]
    }
   ],
   "source": [
    "from methods.content_based import ContentBasedRecommender, content_based_recommend\n",
    "content_based_recommender = ContentBasedRecommender(animes)\n",
    "content_based_results = content_based_recommend(content_based_recommender, animes, normal_profiles)\n",
    "print(\"Content-Based Recommendations Length:\")\n",
    "print(f\"{len(content_based_results)}\")\n",
    "eva_content_based = evaluation_pipeline(content_based_results, test_profiles, 10)\n",
    "print(\"Content-Based Evaluation Results:\")\n",
    "print(eva_content_based[\"overall\"])"
   ]
  },
  {
   "cell_type": "code",
   "execution_count": 6,
   "metadata": {},
   "outputs": [
    {
     "name": "stderr",
     "output_type": "stream",
     "text": [
      "Processing users: 100%|██████████| 136/136 [00:00<00:00, 1045.62it/s]"
     ]
    },
    {
     "name": "stdout",
     "output_type": "stream",
     "text": [
      "Collaborative Filtering Recommendations:\n",
      "136\n"
     ]
    },
    {
     "name": "stderr",
     "output_type": "stream",
     "text": [
      "\n"
     ]
    }
   ],
   "source": [
    "from methods.collaborative_basic import collaborative_recommend\n",
    "collaborative_results = collaborative_recommend(normal_profiles, 10)\n",
    "print(\"Collaborative Filtering Recommendations:\")\n",
    "print(f\"{len(collaborative_results)}\")"
   ]
  },
  {
   "cell_type": "code",
   "execution_count": 7,
   "metadata": {},
   "outputs": [
    {
     "name": "stdout",
     "output_type": "stream",
     "text": [
      "Collaborative Filtering Evaluation Results:\n",
      "{'precision': 0.07647058823529412, 'ndcg': 0.28552277792437547, 'recall': 0.07647058823529412}\n"
     ]
    }
   ],
   "source": [
    "CF_b_eva = evaluation_pipeline(collaborative_results, test_profiles, 10)\n",
    "print(\"Collaborative Filtering Evaluation Results:\")\n",
    "print(CF_b_eva[\"overall\"])"
   ]
  },
  {
   "cell_type": "code",
   "execution_count": 8,
   "metadata": {},
   "outputs": [
    {
     "name": "stderr",
     "output_type": "stream",
     "text": [
      "Processing users: 100%|██████████| 136/136 [00:00<00:00, 277.48it/s]"
     ]
    },
    {
     "name": "stdout",
     "output_type": "stream",
     "text": [
      "Collaborative Jaccard Recommendations:\n",
      "136\n"
     ]
    },
    {
     "name": "stderr",
     "output_type": "stream",
     "text": [
      "\n"
     ]
    }
   ],
   "source": [
    "from methods.collaborative_jaccard import collaborative_recommend as collaborative_jaccard_recommend\n",
    "collaborative_jaccard_results = collaborative_jaccard_recommend(normal_profiles, 10)\n",
    "print(\"Collaborative Jaccard Recommendations:\")\n",
    "print(f\"{len(collaborative_jaccard_results)}\")"
   ]
  },
  {
   "cell_type": "code",
   "execution_count": 9,
   "metadata": {},
   "outputs": [
    {
     "name": "stdout",
     "output_type": "stream",
     "text": [
      "Collaborative Jaccard Evaluation Results:\n",
      "{'precision': 0.06470588235294118, 'ndcg': 0.24902086212488642, 'recall': 0.06470588235294118}\n"
     ]
    }
   ],
   "source": [
    "eva_jaccard = evaluation_pipeline(collaborative_jaccard_results, test_profiles, 10)\n",
    "print(\"Collaborative Jaccard Evaluation Results:\")\n",
    "print(eva_jaccard[\"overall\"])"
   ]
  },
  {
   "cell_type": "code",
   "execution_count": 10,
   "metadata": {},
   "outputs": [
    {
     "name": "stdout",
     "output_type": "stream",
     "text": [
      "Original rating count: 192112\n",
      "Training user rating count: 2088\n",
      "Enhanced rating count: 2730\n",
      "Cleaned rating count after conflict removal: 2668\n",
      "Final SVD training set size: 2668\n",
      "Generated Top-10 recommendations for 136 users in total\n",
      "SVD Recommendations:\n",
      "136\n"
     ]
    }
   ],
   "source": [
    "from methods.CF import SVD_recommend\n",
    "svd_results = SVD_recommend(normal_profiles, test_profiles, reviews, 10)\n",
    "print(\"SVD Recommendations:\")\n",
    "print(f\"{len(svd_results)}\")"
   ]
  },
  {
   "cell_type": "code",
   "execution_count": 11,
   "metadata": {},
   "outputs": [
    {
     "name": "stdout",
     "output_type": "stream",
     "text": [
      "SVD Evaluation Results:\n",
      "{'precision': 0.06544117647058824, 'ndcg': 0.2311561835546887, 'recall': 0.06544117647058824}\n"
     ]
    }
   ],
   "source": [
    "SVD_result = evaluation_pipeline(svd_results, test_profiles, 10)\n",
    "print(\"SVD Evaluation Results:\")\n",
    "print(SVD_result[\"overall\"])"
   ]
  },
  {
   "cell_type": "code",
   "execution_count": 12,
   "metadata": {},
   "outputs": [
    {
     "name": "stderr",
     "output_type": "stream",
     "text": [
      "Processing users: 100%|██████████| 136/136 [00:00<00:00, 1194.04it/s]\n"
     ]
    },
    {
     "name": "stdout",
     "output_type": "stream",
     "text": [
      "Successfully built a unified Content-Based Recommender.\n"
     ]
    },
    {
     "name": "stderr",
     "output_type": "stream",
     "text": [
      "Generating Content_based recommendations: 100%|██████████| 136/136 [00:06<00:00, 22.05it/s]"
     ]
    },
    {
     "name": "stdout",
     "output_type": "stream",
     "text": [
      "Hybrid Recommendations:\n",
      "136\n"
     ]
    },
    {
     "name": "stderr",
     "output_type": "stream",
     "text": [
      "\n"
     ]
    }
   ],
   "source": [
    "from methods.weighted_hybrid import hybrid_recommendations\n",
    "hybrid_results = hybrid_recommendations(animes, normal_profiles, reviews)\n",
    "print(\"Hybrid Recommendations:\")\n",
    "print(f\"{len(hybrid_results)}\")"
   ]
  },
  {
   "cell_type": "code",
   "execution_count": 13,
   "metadata": {},
   "outputs": [
    {
     "name": "stdout",
     "output_type": "stream",
     "text": [
      "Hybrid Evaluation Results:\n",
      "{'precision': 0.06838235294117648, 'ndcg': 0.255468768640833, 'recall': 0.06838235294117648}\n"
     ]
    }
   ],
   "source": [
    "eva_hybrid = evaluation_pipeline(hybrid_results, test_profiles, 10)\n",
    "print(\"Hybrid Evaluation Results:\")\n",
    "print(eva_hybrid[\"overall\"])"
   ]
  },
  {
   "cell_type": "code",
   "execution_count": 14,
   "metadata": {},
   "outputs": [
    {
     "name": "stderr",
     "output_type": "stream",
     "text": [
      "Processing users: 100%|██████████| 136/136 [00:00<00:00, 1086.83it/s]\n"
     ]
    },
    {
     "name": "stdout",
     "output_type": "stream",
     "text": [
      "Successfully built a unified Content-Based Recommender.\n"
     ]
    },
    {
     "name": "stderr",
     "output_type": "stream",
     "text": [
      "Generating Content_based recommendations: 100%|██████████| 136/136 [00:06<00:00, 22.15it/s]"
     ]
    },
    {
     "name": "stdout",
     "output_type": "stream",
     "text": [
      "Cascading Hybrid Recommendations:\n",
      "136\n"
     ]
    },
    {
     "name": "stderr",
     "output_type": "stream",
     "text": [
      "\n"
     ]
    }
   ],
   "source": [
    "from methods.cascading_hybrid import cascading_hybrid_recommendations\n",
    "cascading_results = cascading_hybrid_recommendations(animes, normal_profiles, reviews)\n",
    "print(\"Cascading Hybrid Recommendations:\")\n",
    "print(f\"{len(cascading_results)}\")"
   ]
  },
  {
   "cell_type": "code",
   "execution_count": 15,
   "metadata": {},
   "outputs": [
    {
     "name": "stdout",
     "output_type": "stream",
     "text": [
      "Cascading Hybrid Evaluation Results:\n",
      "{'precision': 0.07500000000000001, 'ndcg': 0.2874771164594664, 'recall': 0.07500000000000001}\n"
     ]
    }
   ],
   "source": [
    "eva_cascading = evaluation_pipeline(cascading_results, test_profiles, 10)\n",
    "print(\"Cascading Hybrid Evaluation Results:\")\n",
    "print(eva_cascading[\"overall\"])"
   ]
  },
  {
   "cell_type": "code",
   "execution_count": null,
   "metadata": {},
   "outputs": [],
   "source": []
  },
  {
   "cell_type": "code",
   "execution_count": 16,
   "metadata": {},
   "outputs": [
    {
     "name": "stdout",
     "output_type": "stream",
     "text": [
      "[preprocessing] Recommendations saved to: data/recommendations\\recommendations.json\n",
      "User DesolatePsyche recommendations: [(5525, 0.17496355305594125), (849, 0.17496355305594125), (15227, 0.16495721976846456), (24833, 0.16495721976846456), (9874, 0.16495721976846456), (177, 0.16495721976846456), (18179, 0.16495721976846456), (235, 0.16495721976846456), (7592, 0.16495721976846456), (251, 0.16495721976846456)]\n",
      "User ZephSilver recommendations: [(263, 0.1887128390240994), (9969, 0.18490006540840975), (3297, 0.15408338784034148), (820, 0.133440128170906), (1827, 0.13074409009212273), (2921, 0.13074409009212273), (1210, 0.1232667102722732), (31933, 0.11322770341445965), (5941, 0.10675210253672485), (33049, 0.10675210253672485)]\n",
      "User usaking recommendations: [(32281, 0.2726392706363988), (9253, 0.27050089040022973), (35247, 0.25767356084130855), (7791, 0.25503068522533523), (35839, 0.2479591495335438), (43, 0.22810637940488032), (30, 0.20389771793513878), (11061, 0.20127153968838662), (2167, 0.1995930819792704), (9756, 0.19536175417794366)]\n",
      "User GuanYu_7 recommendations: [(14719, 0.27407548393101266), (1, 0.2563741397460291), (19, 0.22998945338818588), (11741, 0.22378169554578375), (7311, 0.2180257124001791), (440, 0.21449799456256347), (33, 0.197796943032309), (777, 0.19580898360256083), (199, 0.19580898360256083), (437, 0.19580898360256083)]\n",
      "User Maneki-Mew recommendations: [(9253, 0.3038218101250999), (853, 0.2864459496157732), (1575, 0.2383374366896872), (177, 0.2148344622118299), (36649, 0.2067245576486808), (13601, 0.20464687117164015), (1535, 0.19138975058773822), (4181, 0.190029237516523), (5114, 0.18618986725025255), (17074, 0.17875307751726544)]\n",
      "User HaXXspetten recommendations: [(5114, 0.32494495778396937), (2904, 0.2872134789517764), (11061, 0.28015354632860223), (34599, 0.2666982304552209), (32281, 0.26363719294623345), (35180, 0.251445503047119), (9989, 0.23688968483956718), (30, 0.23505204602464835), (38524, 0.2321035412742638), (13759, 0.22566773346211)]\n",
      "User papsoshea recommendations: [(31933, 0.30323921743156146), (7817, 0.24759378423606915), (9253, 0.22978625750451442), (4181, 0.22742941307367104), (5114, 0.22283440581246228), (22135, 0.2214546129433066), (1530, 0.21442250696755893), (8795, 0.21442250696755893), (7785, 0.21442250696755893), (31646, 0.19695964928958376)]\n",
      "User Yuni recommendations: [(4181, 0.2405626121623441), (35180, 0.20951312035156966), (7791, 0.19641855032959654), (17074, 0.19611613513818404), (9253, 0.19444444444444453), (7311, 0.19444444444444442), (35247, 0.18144368465060579), (427, 0.16666666666666674), (2921, 0.16666666666666674), (249, 0.16666666666666674)]\n",
      "User Natsuaki recommendations: [(9253, 0.3137381837457387), (5114, 0.3059950306810524), (4181, 0.2623360911485515), (22135, 0.24632124817678802), (918, 0.22966620733471133), (31933, 0.22485950669875843), (440, 0.21895222060158925), (31758, 0.21637116120395772), (121, 0.21419652147673662), (1735, 0.20399668712070151)]\n",
      "User Mannou-Sama recommendations: [(11061, 0.3332212535293466), (1575, 0.29275956637246314), (32937, 0.2612376798017265), (1, 0.25389915936791874), (4181, 0.24778498781342873), (9756, 0.23635790077299068), (30, 0.22504606883255396), (32867, 0.22391801125862276), (32281, 0.21158263280659895), (13331, 0.21111192558770386)]\n"
     ]
    }
   ],
   "source": [
    "from preprocessing.preprocess_pipline import save_recommendations\n",
    "best_recommendations = collaborative_results\n",
    "save_recommendations(best_recommendations, out_dir=\"data/recommendations\")\n",
    "# Show 10 example recommendations from the best recommendations\n",
    "count = 0\n",
    "for user, recs in best_recommendations.items():\n",
    "    if count >= 10:\n",
    "        break\n",
    "    print(f\"User {user} recommendations: {recs[:10]}\")  # Print top 10 recommendations for each user\n",
    "    count += 1\n"
   ]
  }
 ],
 "metadata": {
  "kernelspec": {
   "display_name": "deeplearning",
   "language": "python",
   "name": "python3"
  },
  "language_info": {
   "codemirror_mode": {
    "name": "ipython",
    "version": 3
   },
   "file_extension": ".py",
   "mimetype": "text/x-python",
   "name": "python",
   "nbconvert_exporter": "python",
   "pygments_lexer": "ipython3",
   "version": "3.12.3"
  }
 },
 "nbformat": 4,
 "nbformat_minor": 2
}
